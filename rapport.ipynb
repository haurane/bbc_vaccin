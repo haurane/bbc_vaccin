{
 "cells": [
  {
   "cell_type": "markdown",
   "metadata": {},
   "source": [
    "# BBC - Projet 2016\n",
    "## Vaccin peptidique contre la bactérie Helicobacter Pylori\n",
    "### Raphaël Racine et Nicolas Kobel\n",
    "\n",
    "- Professeur: Carlos Peña (<a href=\"mailto:carlos.pena@heig-vd.ch\">carlos.pena@heig-vd.ch</a>)\n",
    "- Assistante: Aitana Lebrand (<a href=\"mailto:aitana.nevesdasilva@heig-vd.ch\">aitana.nevesdasilva@heig-vd.ch</a>)\n",
    "\n",
    "\n",
    "\n",
    "Date: 10 mai 2016\n",
    "<br><br>"
   ]
  },
  {
   "cell_type": "markdown",
   "metadata": {},
   "source": [
    "# Introduction\n",
    "\n",
    "Dans le contexte du cours Bioinformatique et biologie computationnelle *(BBC)* donné durant le semestre de printemps 2016, nous avons étés tâchés en guise de projet de semestre de développer une méthode de détérminer les composants nécessaires au développement d'un vaccins péptidique contre la bactérie *H. Pylori*.\n",
    "\n",
    "Ce document consiste en trois partie.\n",
    "- La première présente le contexte du Projet, définissant les termes Vaccins, Péptides et donnant un aperçu de la bactérie *H. Pylori* et de ces actions sur l'organisme humain.\n",
    "- La seconde résume l'état de l'art dans le traitement et la prévention contre les maladies provoquées par ce pathogène.\n",
    "- La troisième et dérnière déssine la suite des actions proposée par les étudiants afin de résoudre le problème donné."
   ]
  },
  {
   "cell_type": "markdown",
   "metadata": {},
   "source": [
    "# Contexte\n",
    "\n",
    "## Vaccin\n",
    "Un vaccin est une substance que l’on injecte dans un corps humain ou animal. Il permet de créer une réaction immunitaire positive contre une maladie infectieuse. \n",
    "\n",
    "C’est un antigène qui permet de stimuler le système immunitaire afin qu’il puisse s’activer de manière plus rapide et plus forte lors de la présence d’une vraie contamination.\n",
    "\n",
    "Differents types de vaccins éxistent, les vaccins *issus d’agents infectieux inactivés*, les vaccins *issus d’agents vivants atténués* et les vaccins sythétiques.\n",
    "Les deux premières formes de vaccins utilisent des pathogènes morts ou affaiblis affin d'entrainer le système immunitaire à détécter leur forme.\n",
    "La majorité des vaccins et la quasi totalité des vaccins classiques fonctionnnent par ce principe.\n",
    "Ils sont plus simples à créer que des vaccins synthétiques mais peuvent provoquer chez des personnes en faible santé les maladies contre lesquelles elle sont censer proteger.<a href=\"#wiki_vaccin\">[1]</a>\n",
    "\n",
    "Souvant un adjuvant immunitaire est ajouté aux angitgènes dans le procédé de vaccination.\n",
    "Il s'agit là d'une substance toxique sans propriétés antigènique qui permet de surstimuler le système immunitaire afin d'augmenter la réponse au vaccin.<a href=\"#wiki_adj\">[2]</a>\n",
    "\n",
    "Les vaccins synthétiques sont créés en toutes pièces en laboratoire. Là aussi il éxiste différents types, mais dans ce projet nous nous ocuperons uniquement des vaccins peptidiques.\n",
    "\n",
    "## Vaccin peptidique\n",
    "Le vaccin peptidique est une forme de vaccin synthétique dans le quel le pathogène stimulateur consiste en des peptides crées en laboratoire.\n",
    "\n",
    "Un peptide est une séquence de moins de 50 d'acides aminés synthétisables liés entre eux par des *liaisons peptidiques*.\n",
    "Pour les exploiter dans un vaccin ils sont crées pour ressembler aux antigènes du parasite visé.\n",
    "Le système immunitaire les reconnais comme intrus et forme une immunité contre ces antigènes.<a href=\"#wiki_peptide_fr\">[3]</a><a href=\"#wiki_peptide_en\">[4]</a>\n",
    "\n",
    "## Epitope\n",
    "Un épitope est une molécule reconnaissable par un *paratope* (une partie d'un anticorps).\n",
    "C'est la partie d'un antigène qui permet au système immunitaire de distinguer les cellules étrangères des cellules propres à l'organisme.\n",
    "Si un épitope d'un antigène est reconnu et rejeté par le système immunitaire, tout l'antigène et donc tout le parasite l'est.\n",
    "\n",
    "Epitope est un synonyme de peptide dans le cas où celui-ci est reconnaissable par un paratope, et les deux termes seront utilisé de manière interchangeable dans ce rapport.<a href=\"#wiki_epitope\">[5]</a>\n",
    "\n",
    "## Bactérie\n",
    "Une bactérie est un micro-organisme capable de se reproduire. Il est à noter qu’il s’agit d’un organisme qui n’est ni végétal, ni animal.\n",
    "\n",
    "Il s’agit d’un organisme procaryote, dont la structure cellulaire ne possède donc pas de noyau.\n",
    "\n",
    "### Helicobacter Pilory\n",
    "\n",
    "La bactérie Helicobacter Pylori est une bactérie très petite responsable de plusieurs maladies de l’estomac, dont certaines peuvent aller jusqu’au cancer de l’estomac (qui commence en général par des ulcères).\n",
    "\n",
    "Comme son nom l’indique, il s’agit d’une bactérie en forme d’hélice et sa particularité et de se sentir « chez elle » dans l’estomac malgré les niveaux d'acidité élevés dans cet environnement.<a href=\"#wiki_hpylori\">[6]</a>\n",
    "Cette bactérie sécrète de l'uréase. Cette protéine permet à la bactérie de de transformer l'acide gastrique en ammoniaque anodin pour la bactérie. L'autre mécanisme de défense contre l'acide gastrique est la capacité de *H. Pylori* de pouvoir pénétrer la couche muqueuse de l'estomac.<a href=\"#nci\">[7]</a>\n",
    "\n",
    "Cette couche muqueuse protège l'estomac, et donc le corps humain de sa propre acidité. Lorsque pénétrée par la bactérie, l'équilibre chimique de la muqueuse est dérangé. Ceci affaiblit la protection et peut mener à des ulcères voir des cancers.\n",
    "Cette protéine est subdivisée en deux gènes appelés ureA et ureB. Ces deux gènes participent (avec d’autres gènes accessoires) à l’activité enzymatique de la bactérie.<a href=\"#wiki_hpylori\">[6]</a>\n",
    "\n",
    "## Protéine Uréase\n",
    "La protéine Urease présente dans la bactérie H pilory a la forme suivante :\n",
    " \n",
    "\n",
    "\n",
    "![urease structure](img/urease.png)\n",
    "Source : *http://www.rcsb.org/pdb/explore/explore.do?structureId=1e9y*\n",
    "\n",
    "Elle forme un complexe supramoléculaire « Dodecameric » composé de 12 copies de couples (UreA, UreB) qui se trouve chacune dans un site actif, qui permet à la bactérie de survivre. Il y a donc 12 sites actifs dans cette protéine.\n",
    "\n",
    "### Sous unité UreB\n",
    "\n",
    "La sous-unité UreB est celle qui nous intéresse car c’est à partir de celle-ci qu’il sera possible de prédire des épitopes potentiellement utilisables dans le vaccin.\n",
    "\n",
    "Cette sous-unité possède actuellement 5 mutations différentes : **K219X, L324K, I355A, I522V, D531N.**\n",
    "\n",
    "Le gène résponsable pour l'encodage de la protéine UreB est le gène *ureB*.\n",
    "Ce gène est aussi identifié sous les noms de *hpuB* et *HP_0027*.\n",
    "\n",
    "On peut trouver des informations (notamment sur les séquences de cette sous-unité UreB) à partir de la base de données UniprotKG (Swiss-Prot) sur le lien suivant : http://www.uniprot.org/uniprot/P69996\n",
    "\n",
    "![](img/structure_ureb.png)"
   ]
  },
  {
   "cell_type": "markdown",
   "metadata": {},
   "source": [
    "# Etat de l'art\n",
    "\n",
    "## Diagnostique / Détection\n",
    "\n",
    "En règle générale un dépistage de *H. Pylori* se fait lorsqu’un patient présente certains des symptômes suivants <a href=\"#medinet\">[8]</a>:\n",
    "- peines abdominales\n",
    "- nausées et vomissements\n",
    "- anémie\n",
    "- halitose\n",
    "\n",
    "### Outils de diagnostique\n",
    "Les outils de diagnostiques les plus fréquemment utilises sont <a href=\"#medline\">[9]</a>:\n",
    "\n",
    "\n",
    "- Tests de l'haleine\n",
    " - *La bactérie modifiant certaines substances dans l'estomac, il est possible de faire ingérer au patient de l'urée légèrement radioactif et de mesurer la présence des transformas.*\n",
    "- Tests sanguins.\n",
    " - *Comme les tests sanguins ne détectent uniquement la présence d'anticorps contre cette bactérie, ils deviennent inefficaces après vaccination et/ou première infections.*\n",
    "\n",
    "- Examen des selles.\n",
    " - *Des traces de *H. Pylori* peuvent être détectées dans les celles d'un patient affecte.*\n",
    "- Biopsie.\n",
    " - *La biopsie est la méthode la plus invasive mais la plus précise. Elle se fait lors d'une endoscopie. En raison de son caractère invasif, une biopsie n'est normalement utilise uniquement si le patient doit subir une endoscopie pour d'autres raisons (traitement de saignements internes, vérification de présence de cellules cancéreuses, etc.).*\n",
    "\n",
    "\n",
    "## Traitement\n",
    "*H. Pylori* est traitable par des antibiotiques. Du a une prolifération de bactéries résistante aux antibiotiques, les traitements conseillés sont des traitements triple. \n",
    "\n",
    "Ils combinent en règle générale deux antibiotiques avec des Inhibiteur de la pompe à protons (IPP). L'action de l'IPP est de diminuer la production d'acide gastrique. \n",
    "\n",
    "L'IPP est indispensable à ce genre de traitement, les antibiotiques n'étant pas efficaces en milieux acides.<a href=\"#medscape\">[10]</a>\n",
    "\n",
    "## Prévention\n",
    "Les règles d'hygiène standard s'appliquent à la prévention contre l'infection avec *H. Pylori* (se nettoyer les mains, ne pas partager les verres, ...)<a href=\"#cdc\">[11]</a>.\n",
    "\n",
    "Dans un article publié en 2015 dans le *Lancet*, un groupe de médecins chinois a évalué l'efficacité d'un vaccin contre *H. Pylori* développé en 2005. Ils évaluent le succès de ce vaccin a environ 70% mais se montrent encore dubitatif quant au long-terme<a href=\"#ming\">[12]</a>.\n",
    "ImevaX, une start-up cofondée par l'université technique de Munich a annoncé en 2014 avoir créé un vaccin qui aurait une efficacité stérilisante de 80% dans les souris. Des tests cliniques sont prévus pour le début de l'année 2016 pour vérifier ces propriétés dans l'humain<a href=\"#tech\">[13]</a>."
   ]
  },
  {
   "cell_type": "markdown",
   "metadata": {},
   "source": [
    "# Conception de la solution\n",
    "\n",
    "Comme décrit dans la séction 2, l'helicobacter pylori peut être identifiée grâce à la protéine Uréase, plus spécifiquement sa sous-unité beta. Afin de créer nôtre liste de péptides à synthétiser pour le vaccin, nous devons trouver dans cette protéine des épitopes permettant d'identifier la bactérie, quelle que soit sa provenance.\n",
    "\n",
    "Premièremement nous allons procéder à une prédiction d'épitopes. *An introduction to epitope prediction methods and software* donne un apercu des méthodes de prédiction disponible. Nous avons trouvés deux outils de préditcion d'épitopes linéaires, IEDB Analysis Resource (http://tools.immuneepitope.org/bcell/) et SVMTrip (http://sysbio.unl.edu/SVMTriP/). De ses résultats nous prendrons des chaines d'acides aminés de longueure d'environ 20. Si les résultats fournissent des chaines significativement plus longues nous en extrairerons une sous chaine de 20 acides. Si les résultats donne des score de prédiction localisable ceux-ci seront pris en compte pour le choix de la sous-chaine. N'ayant pas d'outils permettant d'automatiser la prédiction nous ferons les recherches \"à la main\" et sauvegarderons les résultats dans un fichier texte.\n",
    "\n",
    "Un code python similaire à celui du laboratoire 2 permettera ensuite de récuperer de la base de donnée GenBank les differentes souches de l'uréase-B. Nous en avons besoin afin de pouvoir déterminer si les épitopes sont assez globales pour identifier tout type d'*H. pylori*. Sur chacun de ces résultats nous allons faire un test d'alignement dans la région prédite par les algorithmes mentionnés ci-dessus.\n",
    "Nous devons prendre toutes les souches de *H Pilory* qui sont en lien avec la protéine Uréase uniquement (car il y a d'autres souches qui sont en lien avec d'autres protéines, pas seulement Uréase). Ces tests d'alignement nous donnerons un score de validité de cette épitope. Ce score détérminera si on accepte cet épitope comme candidat pour un péptide."
   ]
  },
  {
   "cell_type": "markdown",
   "metadata": {},
   "source": [
    "# Réalisation\n",
    "Les démarche décrite ci-dessous ont étés éffectués dans le *notebook ipython* nommé *bbc_kobel_racine_code.ipbn* livré en pièce jointe. Ce paragraphe à pour but d'éxpliquer les démarche et de justifier les choix d'implémentation.\n",
    "## Prédiction des épitopes\n",
    "Nous avons retranscrits les résultats des prédictions d'épitopes par les deux outils mentionés ci-dessus dans deux fichiers texte.\n",
    "*SVNTrip* offre un score de prédiction, et nous avons choisis les quatres meilleurs (avec un score supérieur à 90%). Les scores des candidats suivants étaient à nos yeux insuffisant (&lt;30%).\n",
    "*IEDB* n'offre pas cette possibilité, nous avons donc choisi les épitopes de taille entre 15 et 20 paires de base, cette taille nous ayant étée conseillée lors des périodes encadrée.\n",
    "Ceci nous donne une liste de 9 épitopes probables sauvegardés dans les fichiers *epitopes_SVM.txt* et *epitopes_imuneepitope.txt* fournis avec ce rapport."
   ]
  },
  {
   "cell_type": "markdown",
   "metadata": {},
   "source": [
    "## Préparation des données\n",
    "Utilisant la base de donnée *NCBI* et les outils présentés en cours (entrez), nous avons cherché toutes les variantes de la protéine UreB. Nous avons éliminé de ce résultat tous les faux positifs à notre recherche.\n",
    "\n",
    "Dans un fichier fasta nous avons inscrit la séquence qui nous à servi à la prédiction des épitopes ainsi que les épitopes prédits.\n",
    "Ce fichier nous a permi de faire un premier alignement des épitopes afin de pouvoir les situer dans le gène de référence.\n",
    "\n",
    "Ce premier alignement fait nous avons pu procéder à l'alignement des épitopes sur les souches d'UreB trouvé au par avant.\n",
    "Le résultat se présente comme tableau de chaines de charactères avec des charactères spéciaux pour les insertions/suppressions."
   ]
  },
  {
   "cell_type": "markdown",
   "metadata": {},
   "source": [
    "## Calcul de score\n",
    "Les differentes souches alignées l'une sur l'autre, ainsi qu'avec les épitopes prédits, il nous a fallu choisir les candidats plausibles.\n",
    "Pour ce faire nous avons attribué à chaque epitope un score.\n",
    "Le calcul naif attribue 1 point par souche correspondante par position dans l'épitope, 0 à chaque difference.\n",
    "Le score total est ensuite divisé par la taille de l'épitope et le nombre de souches examinées afin de le ramener à un résultat entre 0 et 1."
   ]
  },
  {
   "cell_type": "markdown",
   "metadata": {},
   "source": [
    "## Resultats\n",
    "Les scores calculés il nous faut décider des épitopes à tester en laboratoire.\n",
    "2 épitopes ont étés retenus, ils s'agissent des séquences *MIGGGTGPADGTNATTITPGR* et *QQIPTAFASGVTTMIGGGTG*, les deux ayant un score supérieur à 0.75.\n",
    "Ce seuil à été choisi arbitrairement, les résultats montrent qu'un score supérieur (0.8) ne donnerait pas de résultats, un score inférieur serait à nos yeux pas assez sûr.\n",
    "\n",
    "Finalement nous avons fait une recherche d'homologues chez l'humain en utilisant les outils **BLAST** de la *NCBI*.\n",
    "Tout épitope ayant un homologue chez l'humain ne serait pas valable en tant que vaccin car le système immunitaire ne le reconnaitrais pas comme agent étranger.\n",
    "Aucun des deux épitopes retenus ne présente d'homologues dans le génome humain, nous laissant ainsi conclure que les deux épitopes sont valides.\n",
    "\n",
    "Un choix plus large d'épitopes aurait peut-etre être fait si nous avions modifié les critères de choix sur les épitopes prédits par les outils, mais cela aurait pu mener à des épitopes difficilement synthétisables (trop grands) ou à des résultats insurs (scores statistiquement non valide car pas assez de données)."
   ]
  },
  {
   "cell_type": "markdown",
   "metadata": {},
   "source": [
    "## Sources\n",
    "\n"
   ]
  },
  {
   "cell_type": "markdown",
   "metadata": {},
   "source": [
    "[1] Vaccination. <cite id=wiki_vaccin>Wikipedia : l’encyclopédie libre</cite>[en ligne]. Dernière modification de la page le 9 mai 2016 à 21:28. \n",
    "Disponible à l’adresse : https://fr.wikipedia.org/w/index.php?title=Vaccination&direction=next&oldid=126026407 [Consulté le 20 mai 2016]\n",
    "\n",
    "[2] Adjuvant immunologique. <cite id=wiki_adj>Wikipedia : l’encyclopédie libre</cite>[en ligne]. Dernière modification de la page le 23 mars 2016 à 02:33 \n",
    "Disponible à l’adresse : https://fr.wikipedia.org/w/index.php?title=Adjuvant_immunologique&oldid=124626328 [Consulté le 24 mai 2016]\n",
    "\n",
    "[3] Peptide (fr). <cite id=wiki_peptide_fr>Wikipedia : l’encyclopédie libre</cite>[en ligne]. Dernière modification de la page le 29 novembre 2015 à 15:14 \n",
    "Disponible à l’adresse : https://fr.wikipedia.org/w/index.php?title=Peptide&oldid=120905012 [Consulté le 24 mai 2016]\n",
    "\n",
    "[4] Peptide (en). <cite id=wiki_peptide_en>Wikipedia, the free encyclopedia</cite>[en ligne]. Dernière modification de la page le 16 Mai 2016 à 19:38\n",
    "Disponible à l’adresse : https://en.wikipedia.org/w/index.php?title=Peptide&oldid=720582909 [Consulté le 24 mai 2016]\n",
    "\n",
    "[5] Epitope. <cite id=wiki_epitope>Wikipedia : l’encyclopédie libre</cite>[en ligne]. Dernière modification de la page le 10 avril 2016 à 23:54\n",
    "Disponible à l’adresse : https://fr.wikipedia.org/w/index.php?title=%C3%89pitope&oldid=125180031 [Consulté le 24 mai 2016]\n",
    "\n",
    "[6] Helicobacter Pylori. <cite id=wiki_hpylori>Wikipedia : l’encyclopédie libre</cite>[en ligne]. Dernière modification de la page le 26 mars 2016 à 20:11\n",
    "Disponible à l’adresse : https://fr.wikipedia.org/w/index.php?title=Helicobacter_pylori&oldid=124733414 [Consulté le 24 mai 2016]\n",
    "\n",
    "[7] NATIONAL CANCER INSTITUTE. Helicobacter pylori and Cancer.<cite id=nci>National Cancer Institute at the National Institutes of Health</cite>[en ligne]. Mis à jour le 5 Septembre 2013. Disponible à l'adresse : http://www.cancer.gov/about-cancer/causes-prevention/risk/infectious-agents/h-pylori-fact-sheet [Consulté le 24 mai 2016]\n",
    "\n",
    "[8] MEDICINENET. Helicobacter pylori (H. pylori) facts. <cite id=medinet>medicinenet.com</cite>[en ligne]. Mis à jour le 20 octobre 2015. Disponible à l'adresse : http://www.medicinenet.com/helicobacter_pylori/article.htm [Consulté le 24 mai 2016]\n",
    "\n",
    "[9] MEDLINEPLUS. Tests for H. pylori. <cite id=medline>US National Library of Medicine</cite>[en ligne]. Mis à jour le 14 août 2015. Disponible à l'adresse : https://www.nlm.nih.gov/medlineplus/ency/article/007501.htm [Consulté le 24 mai 2016]\n",
    "\n",
    "[10] MEDSCAPE. Helicobacter Pylori Infection Treatment & Management <cite id=medscape>WebMD</cite>[en ligne]. Mis à jour le 15 mars 2016. Disponible à l'adresse : http://emedicine.medscape.com/article/176938-treatment [Consulté le 24 mai 2016]\n",
    "\n",
    "[11] CDC. Helicobacter pylori, Fact Sheet for Health Care Providers. <cite id=cdc>Centers for Disease Control and Prevention</cite> Publié Juillet 1996. Disponible à l'adresse : http://www.cdc.gov/ulcer/files/hpfacts.PDF [Consulté le 24 mai 2016]\n",
    "\n",
    "[12] MING, Zeng, XU-HU Mao,JING-XIN, Li [et al.], 2015 Efficacy, safety, and immunogenicity of an oral recombinant Helicobacter pylori vaccine in children in China: a randomised, double-blind, placebo-controlled, phase 3 trial. In <cite id=ming>The Lancet</cite>[en ligne]. 1 Juillet 2015. No 386, pp. 1457–64. Disponible à l'adresse http://www.thelancet.com/pdfs/journals/lancet/PIIS0140-6736%2815%2960310-5.pdf [Consulté le 24 mai 2016]\n",
    "\n",
    "[13] SANDO, Lilian. Towards the first Helicobacter pylori vaccine? <cite id=tech>Technologist</cite>[en ligne]. Publié le 6 Novembre 2014. Disponible à l'adresse http://www.technologist.eu/towards-the-first-helicobacter-pylori-vaccine/ [Consulté le 24 mai 2016]"
   ]
  }
 ],
 "metadata": {
  "kernelspec": {
   "display_name": "Python 2",
   "language": "python",
   "name": "python2"
  },
  "language_info": {
   "codemirror_mode": {
    "name": "ipython",
    "version": 2
   },
   "file_extension": ".py",
   "mimetype": "text/x-python",
   "name": "python",
   "nbconvert_exporter": "python",
   "pygments_lexer": "ipython2",
   "version": "2.7.11"
  }
 },
 "nbformat": 4,
 "nbformat_minor": 0
}
