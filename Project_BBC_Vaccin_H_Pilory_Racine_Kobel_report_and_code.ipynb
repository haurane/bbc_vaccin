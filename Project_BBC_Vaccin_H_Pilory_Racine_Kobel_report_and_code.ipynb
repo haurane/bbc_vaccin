{
 "cells": [
  {
   "cell_type": "markdown",
   "metadata": {},
   "source": [
    "# BBC - Projet 2016\n",
    "## Vaccin peptidique contre la bactérie Helicobacter Pylori\n",
    "\n",
    "- Professeur: Carlos Peña (<a href=\"mailto:carlos.pena@heig-vd.ch\">carlos.pena@heig-vd.ch</a>)\n",
    "- Assistante: Aitana Lebrand (<a href=\"mailto:aitana.nevesdasilva@heig-vd.ch\">aitana.nevesdasilva@heig-vd.ch</a>)\n",
    "\n",
    "- Etudiants : Raphaël Racine et Nicolas Kobel\n",
    "\n",
    "Date: 10 mai 2016\n",
    "<br><br>"
   ]
  },
  {
   "cell_type": "markdown",
   "metadata": {},
   "source": [
    "# Contexte\n",
    "\n",
    "## Vaccin\n",
    "Pour expliquer ce qu’est un vaccin, nous nous sommes inspirés de l’article suivant :\n",
    "https://fr.wikipedia.org/wiki/Vaccination.\n",
    "\n",
    "Un vaccin est une substance que l’on injecte dans un corps humain ou animal. Il permet de créer une réaction immunitaire positive contre une maladie infectieuse. \n",
    "\n",
    "C’est un antigène qui permet de stimuler le système immunitaire afin qu’il puisse s’activer de manière plus rapide et plus forte lors de la présence d’une vraie contamination.\n",
    "Il existe plusieurs types de vaccins, mais on s’intéressera particulièrement au vaccin peptidique.\n",
    "\n",
    "## Vaccin peptidique\n",
    "Un vaccin peptidique permet d’injecter un ou plusieurs séquences d’acides aminés (courtes ou longues) d’antigènes, en y combinant des adjuvants.\n",
    "\n",
    "### Adjuvant\n",
    "Un adjuvant permet de renforcer ou stimuler un système immunitaire lorsqu’elle est administrée conjointement avec un antigène ( source : https://fr.wikipedia.org/wiki/Adjuvant ). Il s’agit d’un composant toxique.\n",
    "Un antigène est caractérisé par son ensemble d’épitopes.\n",
    "\n",
    "## Epitope\n",
    "Pour expliquer ce qu’est un épitope, nous nous sommes inspirés de l’article suivant :\n",
    "https://fr.wikipedia.org/wiki/%C3%89pitope.\n",
    "\n",
    "Un épitope est un déterminant antigénique présentée sous forme de molécule reconnaissable par un paratope (partie variable d’un anticorps). \n",
    "\n",
    "Epitope est un synonyme de peptide dans le cas où celui-ci est reconnaissable par un paratope.\n",
    "\n",
    "## Bactérie\n",
    "\n",
    "Une bactérie est un micro-organisme capable de se reproduire. Il est à noter qu’il s’agit d’un organisme qui n’est ni végétal, ni animal.\n",
    "\n",
    "Il s’agit d’un organisme procaryote, dont la structure cellulaire ne possède donc pas de noyau.\n",
    "\n",
    "### Helicobacter Pilory\n",
    "Pour expliquer ce qu’est la bactérie H Pylori, nous nous sommes inspirés de l’article suivant : http://www.e-sante.fr/helicobacter-pylori-bacterie-tous-dangers/actualite/1534.\n",
    "\n",
    "La bactérie Helicobacter Pylori est une bactérie très petite responsable de plusieurs maladies de l’estomac, dont certaines peuvent aller jusqu’au cancer de l’estomac (qui commence en général par des ulcères).\n",
    "\n",
    "Comme son nom l’indique, il s’agit d’une bactérie en forme d’hélice et sa particularité et de se sentir « chez elle » dans l’estomac malgré les niveaux d'acidité élevés dans cet environnement.\t\n",
    "Cette bactérie sécrète de l'uréase. Cette protéine permet à la bactérie de de transformer l'acide gastrique en ammoniaque anodin pour la bactérie. L'autre mécanisme de défense contre l'acide gastrique est la capacité de H. Pylori de pouvoir pénétrer la couche muqueuse de l'estomac.[1]\n",
    "\n",
    "Cette couche muqueuse protège l'estomac, et donc le corps humain de sa propre acidité. Lorsque pénétrée par la bactérie, l'équilibre chimique de la muqueuse est dérangé. Ceci affaiblit la protection et peut mener à des ulcères voir des cancers.\n",
    "Cette protéine est subdivisée en deux gènes appelés ureA et ureB. Ces deux gènes participent (avec d’autres gènes accessoires) à l’activité enzymatique de la bactérie.\n",
    "[1]http://www.cancer.gov/about-cancer/causes-prevention/risk/infectious-agents/h-pylori-fact-sheet\n",
    "\n",
    "## Protéine Uréase\n",
    "La protéine Urease présente dans la bactérie H pilory a la forme suivante :\n",
    " \n",
    "Source : http://www.rcsb.org/pdb/explore/explore.do?structureId=1e9y \n",
    "\n",
    "![](img/urease.png)\n",
    "\n",
    "Elle forme un complexe supramoléculaire « Dodecameric » composé de 12 copies de couples (UreA, UreB) qui se trouve chacune dans un site actif, qui permet à la bactérie de survivre. Il y a donc 12 sites actifs dans cette protéine.\n",
    "\n",
    "### Sous unité UreB\n",
    "Source : http://www.rcsb.org/pdb/explore/explore.do?structureId=1e9y \n",
    "\n",
    "La sous-unité UreB est celle qui nous intéresse car c’est à partir de celle-ci qu’il sera possible de prédire des épitopes potentiellement utilisables dans le vaccin.\n",
    "\n",
    "Cette sous-unité possède actuellement 5 mutations différentes : <b>K219X, L324K, I355A, I522V, D531N.</b>\n",
    "\n",
    "Elle possède les gènes suivants : <b>ureB, hpuB, HP_0072</b>.\n",
    "\n",
    "On peut trouver des informations (notamment sur les séquences de cette sous-unité UreB) à partir de la base de données UniprotKG (Swiss-Prot) sur le lien suivant : http://www.uniprot.org/uniprot/P69996\n",
    "\n",
    "![](img/structure_ureb.png)"
   ]
  },
  {
   "cell_type": "markdown",
   "metadata": {},
   "source": [
    "# Etat de l'art\n",
    "\n",
    "## Diagnostique / Détection\n",
    "\n",
    "En règle générale un dépistage de H. Pylori se fait lorsqu’un patient présente certains des symptômes suivants [1]:\n",
    "<ul>\n",
    "    <li>peines abdominales\n",
    "\t<li>nausées et vomissements\n",
    "\t<li>anémie\n",
    "\t<li>halitose\n",
    "</ul>\n",
    "\n",
    "### Outils de diagnostique\n",
    "Les outils de diagnostiques les plus fréquemment utilises sont [2]:\n",
    "\n",
    "<ul>\n",
    "    <li>Tests de l'haleine</li>\n",
    "\n",
    "    <i>La bactérie modifiant certaines substances dans l'estomac, il est possible de faire ingérer au patient de l'urée légèrement radioactif et de mesurer la présence des transformas.</i>\n",
    "    <li>Tests sanguins.</li>\n",
    "\n",
    "    <i>Comme les tests sanguins ne détectent uniquement la présence d'anticorps contre cette bactérie, ils deviennent inefficaces après vaccination et/ou première infections.</i>\n",
    "\n",
    "    <li>Examen des selles.</li>\n",
    "\n",
    "    <i>Des traces de H. Pylori peuvent être détectées dans les celles d'un patient affecte.</i>\n",
    "\n",
    "    <li>Biopsie.</li>\n",
    "\n",
    "    <i>La biopsie est la méthode la plus invasive mais la plus précise. Elle se fait lors d'une endoscopie. En raison de son caractère invasif, une biopsie n'est normalement utilise uniquement si le patient doit subir une endoscopie pour d'autres raisons (traitement de saignements internes, vérification de présence de cellules cancéreuses, etc.).</i>\n",
    "</ul>\n",
    "\n",
    "## Traitement\n",
    "H. Pylori est traitable par des antibiotiques. Du a une prolifération de bactéries résistante aux antibiotiques, les traitements conseillés sont des traitements triple. \n",
    "\n",
    "Ils combinent en règle générale deux antibiotiques avec des Inhibiteur de la pompe à protons (IPP). L'action de l'IPP est de diminuer la production d'acide gastrique. \n",
    "\n",
    "L'IPP est indispensable à ce genre de traitement, les antibiotiques n'étant pas efficaces en milieux acides.\n",
    "\n",
    "## Prévention\n",
    "Les règles d'hygiène standard s'appliquent à la prévention contre l'infection avec H. Pylori (ce nettoyer les mains, ne pas partager les verres, ...)[4].\n",
    "\n",
    "Dans un article publié en 2015 dans le Lancet, un groupe de médecins chinois a évalué l'efficacité d'un vaccin contre H. Pylori développé en 2005. Ils évaluent le succès de ce vaccin a environ 70% mais se montrent encore dubitatif quant au long-terme[5].\n",
    "ImevaX, une start-up cofondée par l'université technique de Munich a annoncé en 2014 avoir créé un vaccin qui aurait une efficacité stérilisante de 80% dans les souris. Des tests cliniques sont prévus pour le début de l'année 2016 pour vérifier ces propriétés dans l'humain[6].\n",
    "\n",
    "## Sources\n",
    " [1]http://www.medicinenet.com/helicobacter_pylori/article.htm\n",
    " \n",
    "[2]https://www.nlm.nih.gov/medlineplus/ency/article/007501.htm \n",
    "\n",
    "\n",
    "[3]http://emedicine.medscape.com/article/176938-treatment \n",
    "\n",
    "[4]http://www.cdc.gov/ulcer/files/hpfacts.PDF \n",
    "\n",
    "[5]http://www.thelancet.com/journals/lancet/article/PIIS0140-6736%2815%2960310-5/abstract \n",
    "\n",
    "[6]http://www.technologist.eu/towards-the-first-helicobacter-pylori-vaccine/ \n"
   ]
  },
  {
   "cell_type": "markdown",
   "metadata": {},
   "source": [
    "# Réalisation\n",
    "Tout d'abord, commençons par récupérer les différentes souches de la bactérie H pilory (uniquement celles correspondantes à la protéine Uréase, car on ne s'intéresse pas aux autres)."
   ]
  },
  {
   "cell_type": "code",
   "execution_count": 1,
   "metadata": {
    "collapsed": true
   },
   "outputs": [],
   "source": [
    "# Importation des librairies nécessaires\n",
    "from Bio import Entrez\n",
    "Entrez.email = \"raphael.racine@heig-vd.ch\""
   ]
  },
  {
   "cell_type": "code",
   "execution_count": 2,
   "metadata": {
    "collapsed": false
   },
   "outputs": [
    {
     "name": "stdout",
     "output_type": "stream",
     "text": [
      "['15644634', '987858028', '215479238', '425628494', '425626953', '815729549', '815729547', '815729545', '815729543', '815729541', '815729539', '815729537', '815729535', '815729533', '815729531', '815729529', '815729527', '815729525', '815729523', '815729521', '815729519', '815729517', '815729515', '815729513', '815729511', '815729509', '815729507', '815729505', '815729503', '815729501', '254000649', '532105813', '409896556', '409894893', '409893163', '387572303', '384561342', '384559777', '384558251', '384556702', '384551775', '380873809', '344335753', '344334211', '344331165', '325996870', '325995266', '317013424', '317011857', '317010283', '317008680', '308064373', '308062870', '308061305', '308059716', '307636682', '261838873', '261837457', '210132169', '208431905', '12057207', '297379223', '332672788', '531072757', '315585794', '443620964', '393152452', '393092936', '393031057', '393029926', '393012097', '384374920', '384374758', '384374456', '51989331', '31580720', '28372405', '19338959', '21637242', '21637177', '40737731', '40737728', '40737725', '40737722', '5913959', '5006244', '5006242', '5006240', '5006238', '5006236', '3869058', '3869056', '3869054', '3869052', '3869050']\n",
      "95\n"
     ]
    }
   ],
   "source": [
    "# On s'intéresse à toutes les souches de bactérie ayant comme gène ureB (celui qui nous intéresse pour le vaccin peptidique)\n",
    "\n",
    "query = '\"Helicobacter pylori\"[orgn] AND \"ureB\"[gene]'\n",
    "handle = Entrez.esearch(db='nucleotide',retmax=1000, term=query)\n",
    "record = Entrez.read(handle)\n",
    "gi = record['IdList']\n",
    "\n",
    "print gi\n",
    "print len(gi)"
   ]
  },
  {
   "cell_type": "markdown",
   "metadata": {},
   "source": [
    "Maintenant, nous allons créer un fichier fasta qui contiendra les séquences de chaque souche de la bactérie que nous avons trouvées précédemment."
   ]
  },
  {
   "cell_type": "code",
   "execution_count": 3,
   "metadata": {
    "collapsed": false
   },
   "outputs": [],
   "source": [
    "from Bio import SeqIO\n",
    "protein_seq = Entrez.efetch(db=\"nucleotide\",id=gi,rettype=\"fasta_cds_aa\",retmode=\"text\")\n",
    "protein_seq = list(SeqIO.parse(protein_seq, \"fasta\"))"
   ]
  },
  {
   "cell_type": "code",
   "execution_count": 4,
   "metadata": {
    "collapsed": false
   },
   "outputs": [
    {
     "name": "stdout",
     "output_type": "stream",
     "text": [
      "ID: lcl|NC_000915.1_prot_NP_206872.1_62\n",
      "Name: lcl|NC_000915.1_prot_NP_206872.1_62\n",
      "Description: lcl|NC_000915.1_prot_NP_206872.1_62 [gene=ureB] [protein=urease subunit beta] [protein_id=NP_206872.1] [location=complement(75527..77236)]\n",
      "Number of features: 0\n",
      "Seq('MKKISRKEYVSMYGPTTGDKVRLGDTDLIAEVEHDYTIYGEELKFGGGKTLREG...SIF', SingleLetterAlphabet())\n"
     ]
    }
   ],
   "source": [
    "# Nous devons conserver uniquement les séquences avec le gène ureB, pour ne pas avoir les autres...\n",
    "updated_protein_seq = [ ps for i,ps in enumerate(protein_seq) if ps.description.find('gene=ureB')>0 ]\n",
    "\n",
    "print updated_protein_seq[0]"
   ]
  },
  {
   "cell_type": "markdown",
   "metadata": {},
   "source": [
    "Ensuite, nous allons récupérer la séquence de base de la protéine UreB utiliséé pour l'algorithme de prédiction d'épitopes et l'aligner dans un premier temps avec les épitopes prédies."
   ]
  },
  {
   "cell_type": "code",
   "execution_count": 5,
   "metadata": {
    "collapsed": false
   },
   "outputs": [
    {
     "name": "stdout",
     "output_type": "stream",
     "text": [
      "Base sequence subunit UreB used for epitopes predictions :  MKKISRKEYVSMYGPTTGDKVRLGDTDLIAEVEHDYTIYGEELKFGGGKTLREGMSQSNNPSKEELDLIITNALIVDYTGIYKADIGIKDGKIAGIGKGGNKDMQDGVKNNLSVGPATEALAGEGLIVTAGGIDTHIHFISPQQIPTAFASGVTTMIGGGTGPADGTNATTITPGRRNLKWMLRAAEEYSMNLGFLAKGNASNDASLADQIEAGAIGFKIHEDWGTTPSAINHALDVADKYDVQVAIHTDTLNEAGCVEDTMAAIAGRTMHTFHTEGAGGGHAPDIIKVAGEHNILPASTNPTIPFTVNTEAEHMDMLMVCHHLDKSIKEDVQFADSRIRPQTIAAEDTLHDMGIFSITSSDSQAMGRVGEVITRTWQTADKNKKEFGRLKEEKGDNDNFRIKRYLSKYTINPAIAHGISEYVGSVEVGKVADLVLWSPAFFGVKPNMIIKGGFIALSQMGDANASIPTPQPVYYREMFAHHGKAKYDANITFVSQAAYDKGIKEELGLERQVLPVKNCRNITKKDMQFNDTTAHIEVNPETYHVFVDGKEVTSKPANKVSLAQLFSIF\n"
     ]
    }
   ],
   "source": [
    "input_handle = open('base_sequence_subunit_ure_b_for_epitope_prediction.fasta', 'r')\n",
    "\n",
    "base_sequence_subunit_ureb = input_handle.readlines()[1]\n",
    "print \"Base sequence subunit UreB used for epitopes predictions : \", base_sequence_subunit_ureb"
   ]
  },
  {
   "cell_type": "markdown",
   "metadata": {},
   "source": [
    "Création d'un fichier fasta contenant la séquence qu'on vient de lire et aussi les épitopes prédies afin de les aligner :"
   ]
  },
  {
   "cell_type": "code",
   "execution_count": 6,
   "metadata": {
    "collapsed": false
   },
   "outputs": [
    {
     "name": "stdout",
     "output_type": "stream",
     "text": [
      "FASTA containing base UreB sequences and predicted epitopes created !\n"
     ]
    }
   ],
   "source": [
    "# Sauvegarder les noms d'épitopes pour les reprendre plus tard\n",
    "epitopes_names = []\n",
    "\n",
    "# Importation des librairies nécessaires pour l'alignement\n",
    "from Bio.Align.Applications import MuscleCommandline\n",
    "from Bio import AlignIO\n",
    "\n",
    "# Création d'un fichier fasta contenant la séquence de base UreB et les épitopes prédies\n",
    "output_handle = open('base_seq_and_epitopes.fasta', 'w')\n",
    "output_handle.write(\">Subunit_UreB\" + '\\n' + base_sequence_subunit_ureb + '\\n')\n",
    "\n",
    "# Nous devons inclure dans ce fichier FASTA les épitopes que nous avons prédies avec \n",
    "# ImmuneEpitope dans la protéine Urease afin de pouvoir les\n",
    "# aligner avec les souches (fichier epitopes_immuneepitope.txt)\n",
    "input_handle = open('epitopes_immuneepitope.txt', 'r')\n",
    "\n",
    "sequences_epitopes = input_handle.readlines()\n",
    "\n",
    "for i, seq in enumerate(sequences_epitopes):\n",
    "    name = 'ImmuneEpitope_SEQ' + str(i)\n",
    "    epitopes_names = epitopes_names + [name]\n",
    "    output_handle.write('>' + name + '\\n' + seq)\n",
    "\n",
    "input_handle.close()\n",
    "\n",
    "# Nous devons inclure dans ce fichier FASTA les épitopes que nous avons prédies avec SVM dans \n",
    "# la protéine Urease afin de pouvoir les\n",
    "# aligner avec les souches (fichier epitopes_SMV.txt)\n",
    "input_handle = open('epitopes_SVM.txt', 'r')\n",
    "\n",
    "sequences_epitopes = input_handle.readlines()\n",
    "\n",
    "output_handle.write('\\n') # Nécessaire !!!\n",
    "\n",
    "for i, seq in enumerate(sequences_epitopes):\n",
    "    name = 'EpitopeSVM_SEQ' + str(i)\n",
    "    epitopes_names = epitopes_names + [name]\n",
    "    output_handle.write('>' + name + '\\n' + seq)\n",
    "\n",
    "output_handle.close()\n",
    "\n",
    "print \"FASTA containing base UreB sequences and predicted epitopes created !\""
   ]
  },
  {
   "cell_type": "markdown",
   "metadata": {},
   "source": [
    "Réalisons maintenant le premier alignement :"
   ]
  },
  {
   "cell_type": "code",
   "execution_count": 8,
   "metadata": {
    "collapsed": false
   },
   "outputs": [],
   "source": [
    "# Chemin vers l'exécutable du programme muscle (à modifier si nécessaire)\n",
    "# Attention ! Le   r   devant les chemins de fichier est important sur Windows !!!!!!\n",
    "\n",
    "# Win\n",
    "#muscle_loc = r'muscle.exe'\n",
    "\n",
    "# Linux n.kobel\n",
    "muscle_loc = '/usr/bin/muscle'\n",
    "\n",
    "# Attention aux chemins des fichiers !\n",
    "in_file = r'base_seq_and_epitopes.fasta'\n",
    "out_file = r'base_seq_and_epitopes_ALIGNED.aln'\n",
    "\n",
    "souches = open('souches_bacterie_h_pilory_ureB_et_epitopes.fasta', 'r')\n",
    "\n",
    "muscle_cline = MuscleCommandline(cmd=muscle_loc, input=in_file, out=out_file, clwstrict=True)\n",
    "stdout, stderr = muscle_cline()\n",
    "\n",
    "muscle_align = AlignIO.read(out_file, 'clustal') # this command actually performs the alignment"
   ]
  },
  {
   "cell_type": "markdown",
   "metadata": {},
   "source": [
    "Ensuite, nous allons réaliser un deuxième alignement avec les souches de la bactérie"
   ]
  },
  {
   "cell_type": "code",
   "execution_count": 9,
   "metadata": {
    "collapsed": false
   },
   "outputs": [
    {
     "name": "stdout",
     "output_type": "stream",
     "text": [
      "SingleLetterAlphabet() alignment with 116 rows and 581 columns\n",
      "--------------------------------------------...--- EpitopeSVM_SEQ2\n",
      "--------------------------------------------...--- lcl|CP002571.1_prot_hp2017_0076_\n",
      "--------------------------------------------...--- lcl|CP002572.1_prot_hp2018_0079_\n",
      "--------------------------------------------...--- lcl|CP002184.1_prot_hp908_0081_8\n",
      "--------------------------------------------...--- lcl|AKPT01000001.1_prot_EJC52907\n",
      "--------------------------------------------...--- lcl|AKPF01000001.1_prot_EJB93677\n",
      "--------------------------------------------...--- lcl|AKNX01000004.1_prot_EJB32161\n",
      "--------------------------------------------...--- lcl|AKNT01000001.1_prot_EJB31289\n",
      "--------------------------------------------...--- lcl|CP006691.1_prot_HPSA20_0084_\n",
      "--------------------------------------------...--- lcl|CP002605.1_prot_HMPREF0462_0\n",
      "--------------------------------------------...--- lcl|AVNI01000002.1_prot_EQD89528\n",
      "--------------------------------------------...--- lcl|CP002096.1_prot_HMPREF4655_2\n",
      "--------------------------------------------...--- lcl|CP001582.1_prot_HPV225_0079_\n",
      "--------------------------------------------...--- ImmuneEpitope_SEQ3\n",
      "--------------------------------------------...--- ImmuneEpitope_SEQ3\n",
      "--------------------------------------------...SIF lcl|AIHX01000033.1_prot_EIE30291\n",
      "-MKMKKLDYVNTYGPTKGDKVRLGDTEIWAEVEHDYTIYGEELK...TFF lcl|CP003476.1_prot_HPAKL86_0568\n",
      "---MKKLDYVNTYGPTKGDKVRLGDTDLWAEVEHDYTIYGEELK...TFF lcl|CP002982.1_prot_HPPN135_0541\n",
      "...\n",
      "--------------------------------------------...--- EpitopeSVM_SEQ1\n"
     ]
    }
   ],
   "source": [
    "output_handle = open('input_for_second_alignement.fasta', 'w')\n",
    "\n",
    "souches = open('souches_bacterie_h_pilory_ureB_et_epitopes.fasta', 'r')\n",
    "\n",
    "for record in muscle_align:\n",
    "    output_handle.write(\">\" + record.id + '\\n' + str(record.seq) + '\\n')\n",
    "\n",
    "for line in souches.readlines():\n",
    "    output_handle.write(line)\n",
    "\n",
    "output_handle.close()\n",
    "souches.close()\n",
    "\n",
    "in_file = 'input_for_second_alignement.fasta'\n",
    "out_file = 'input_for_second_alignement_ALIGNED.aln'\n",
    "\n",
    "muscle_cline = MuscleCommandline(cmd=muscle_loc, input=in_file, out=out_file, clwstrict=True)\n",
    "stdout, stderr = muscle_cline()\n",
    "\n",
    "muscle_align = AlignIO.read(out_file, 'clustal') # this command actually performs the alignment\n",
    "print muscle_align"
   ]
  },
  {
   "cell_type": "markdown",
   "metadata": {},
   "source": [
    "Maintenant que nous pouvons tout aligner, nous pouvons calculer un score d'alignement pour chaque épitope, et choisir celles qui ont un score supérieure ou égal à une valeur alpha."
   ]
  },
  {
   "cell_type": "code",
   "execution_count": 1,
   "metadata": {
    "collapsed": false
   },
   "outputs": [
    {
     "ename": "NameError",
     "evalue": "name 'epitopes_names' is not defined",
     "output_type": "error",
     "traceback": [
      "\u001b[1;31m---------------------------------------------------------------------------\u001b[0m",
      "\u001b[1;31mNameError\u001b[0m                                 Traceback (most recent call last)",
      "\u001b[1;32m<ipython-input-1-e2098c305040>\u001b[0m in \u001b[0;36m<module>\u001b[1;34m()\u001b[0m\n\u001b[0;32m     19\u001b[0m \u001b[0mthreshold\u001b[0m \u001b[1;33m=\u001b[0m \u001b[1;36m0.5\u001b[0m\u001b[1;33m\u001b[0m\u001b[0m\n\u001b[0;32m     20\u001b[0m \u001b[1;33m\u001b[0m\u001b[0m\n\u001b[1;32m---> 21\u001b[1;33m \u001b[1;32mfor\u001b[0m \u001b[0mname\u001b[0m \u001b[1;32min\u001b[0m \u001b[0mepitopes_names\u001b[0m\u001b[1;33m:\u001b[0m\u001b[1;33m\u001b[0m\u001b[0m\n\u001b[0m\u001b[0;32m     22\u001b[0m     \u001b[1;32mfor\u001b[0m \u001b[0maln\u001b[0m \u001b[1;32min\u001b[0m \u001b[0mmuscle_align\u001b[0m\u001b[1;33m:\u001b[0m\u001b[1;33m\u001b[0m\u001b[0m\n\u001b[0;32m     23\u001b[0m         \u001b[1;32mif\u001b[0m \u001b[0maln\u001b[0m\u001b[1;33m.\u001b[0m\u001b[0mdescription\u001b[0m \u001b[1;33m==\u001b[0m \u001b[0mname\u001b[0m\u001b[1;33m:\u001b[0m\u001b[1;33m\u001b[0m\u001b[0m\n",
      "\u001b[1;31mNameError\u001b[0m: name 'epitopes_names' is not defined"
     ]
    }
   ],
   "source": [
    "def compute_epitope_score(nb_lines, sequence):\n",
    "    \n",
    "    nb_columns = 0\n",
    "    score_epitope = 0\n",
    "    \n",
    "    for i, acid in enumerate(sequence):       \n",
    "        if acid != '-':\n",
    "            score_of_column = 0 \n",
    "            nb_columns = nb_columns + 1\n",
    "\n",
    "            for aln in muscle_align:\n",
    "                if aln.seq[i] != '-' and aln.seq[i] == acid:\n",
    "                    score_of_column = score_of_column + 1\n",
    "                    \n",
    "            score_epitope = score_epitope + float(score_of_column) / nb_lines\n",
    "    return score_epitope / nb_columns\n",
    "\n",
    "# Consider good score since threshold of 0.75\n",
    "threshold = 0.75\n",
    "\n",
    "for name in epitopes_names:\n",
    "    for aln in muscle_align:\n",
    "        if aln.description == name:\n",
    "            score = compute_epitope_score(len(muscle_align), aln.seq)\n",
    "            if score >= threshold:\n",
    "                print ''.join([c for c in aln.seq if c != '-']), \" has a good alignement score (\", score, \") (threshold =\", threshold, \")\"\n",
    "            break; # We have to break because some sequences are in double..."
   ]
  },
  {
   "cell_type": "markdown",
   "metadata": {},
   "source": [
    "Blast Resultats MIGGG... -> pas d'homologues\n",
    "\n",
    "Blast Resultats QQIP... -> pas d'homologues"
   ]
  }
 ],
 "metadata": {
  "kernelspec": {
   "display_name": "Python 2",
   "language": "python",
   "name": "python2"
  },
  "language_info": {
   "codemirror_mode": {
    "name": "ipython",
    "version": 2
   },
   "file_extension": ".py",
   "mimetype": "text/x-python",
   "name": "python",
   "nbconvert_exporter": "python",
   "pygments_lexer": "ipython2",
   "version": "2.7.11"
  }
 },
 "nbformat": 4,
 "nbformat_minor": 0
}
